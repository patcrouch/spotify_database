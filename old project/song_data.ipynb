{
 "cells": [
  {
   "cell_type": "code",
   "execution_count": 2,
   "metadata": {},
   "outputs": [],
   "source": [
    "import requests\n",
    "import pandas as pd\n",
    "import math\n",
    "import time\n",
    "\n",
    "#function used to time how long a function takes\n",
    "def timer(func,*args):\n",
    "    start = time.perf_counter()\n",
    "    output = func(*args)\n",
    "    print(f\"{func.__name__} took {round(time.perf_counter()-start,4)} seconds\")\n",
    "    return output"
   ]
  },
  {
   "cell_type": "code",
   "execution_count": 3,
   "metadata": {},
   "outputs": [],
   "source": [
    "#api definitions\n",
    "user_id = \"97t83gd83c75t69ogtnzjjray\"\n",
    "\n",
    "playlists = {\n",
    "    'my_playlist' : \"6fTpLZHz57ymQCXvwEbwHX\",\n",
    "    'top_songs_us' : \"37i9dQZEVXbLp5XoPON0wI\",\n",
    "    'top_songs_global' : \"37i9dQZEVXbNG2KDcFcKOF\",\n",
    "    'viral_us' : \"37i9dQZEVXbKuaTI1Z1Afx\",\n",
    "    'viral_global' : \"37i9dQZEVXbLiRSasKsNU9\",\n",
    "    'billboard_100' : '6UeSakyzhiEt4NB3UAd6NQ'\n",
    "}\n",
    "\n",
    "token = \"BQCttf_TFTzoGgzIphJilvpPZQQRGURSNZoeJPgB3uPXS3dFCvATUyDn5OVGk5hQXGRUsLN-efzPevt8RKO8QLRd8YuerA9ZZUhgk3EltGeOU5CPFvL0t6Ucc6QnCtzLa_LZ7E1cA8I9UiNtrFpzeDOqx7s4et0vCJj9O80mUqa8G65YxJmBMEuG56ulGrS5Oyg\"\n",
    "\n",
    "headers = {\n",
    "    'Accept': 'application/json',\n",
    "    'Content-Type': 'application/json',\n",
    "    'Authorization': 'Bearer '+token,\n",
    "}\n",
    "\n",
    "base_url = 'https://api.spotify.com/v1'"
   ]
  },
  {
   "cell_type": "code",
   "execution_count": 4,
   "metadata": {},
   "outputs": [],
   "source": [
    "#gets relevant data from json track object\n",
    "def set_track_data(track):\n",
    "    track_data = {\n",
    "        'id':track['track']['id'],\n",
    "        'date_added':track['added_at'],\n",
    "        'name':track['track']['name'],\n",
    "        'artist_ids':[a['id'] for a in track['track']['artists']],\n",
    "        'album_id':track['track']['album']['id'],\n",
    "        'duration':track['track']['duration_ms'],\n",
    "        'explicit':track['track']['explicit'],\n",
    "        'popularity':track['track']['popularity'],\n",
    "        'release_date':track['track']['album']['release_date']\n",
    "    }\n",
    "    \n",
    "    return track_data"
   ]
  },
  {
   "cell_type": "code",
   "execution_count": 5,
   "metadata": {},
   "outputs": [],
   "source": [
    "#gets relevant audio data from json track object\n",
    "def set_audio_data(track):\n",
    "    audio_data = {\n",
    "        'id':track['id'],\n",
    "        'danceability':track['danceability'],\n",
    "        'energy':track['energy'],\n",
    "        'key':track['key'],\n",
    "        'loudness':track['loudness'],\n",
    "        'mode':track['mode'],\n",
    "        'speechiness':track['speechiness'],\n",
    "        'acousticness':track['acousticness'],\n",
    "        'instrumentalness':track['instrumentalness'],\n",
    "        'liveness':track['liveness'],\n",
    "        'valence':track['valence'],\n",
    "        'tempo':track['tempo'],\n",
    "        'time_signature':track['time_signature']\n",
    "    }\n",
    "    \n",
    "    return audio_data"
   ]
  },
  {
   "cell_type": "code",
   "execution_count": 6,
   "metadata": {},
   "outputs": [],
   "source": [
    "#gets relevant data from json artist object\n",
    "def set_artist_data(artist):\n",
    "    artist_data = {\n",
    "        'id':artist['id'],\n",
    "        'name':artist['name'],\n",
    "        'popularity':artist['popularity'],\n",
    "        'genres':artist['genres'],\n",
    "        'followers':artist['followers']['total']\n",
    "    }\n",
    "    \n",
    "    return artist_data"
   ]
  },
  {
   "cell_type": "code",
   "execution_count": 7,
   "metadata": {},
   "outputs": [],
   "source": [
    "#gets relevant data from spotify api given a playlist id\n",
    "def read_playlist(playlist_id):\n",
    "    columns = ['id','date_added','name','artist_ids','album_id','duration','explicit','popularity','release_date']\n",
    "    tracks_info = pd.DataFrame(columns=columns)\n",
    "    for i in range(50):\n",
    "        params = {'offset':100*i,'limit':100}\n",
    "        tracks = requests.get(f\"{base_url}/playlists/{playlist_id}/tracks\",headers=headers,params=params).json()\n",
    "        if not tracks['items']:\n",
    "            break\n",
    "        for track in tracks['items']:    \n",
    "            track_data = set_track_data(track)\n",
    "            tracks_info = tracks_info.append(track_data,ignore_index=True)\n",
    "    return tracks_info"
   ]
  },
  {
   "cell_type": "code",
   "execution_count": 8,
   "metadata": {},
   "outputs": [],
   "source": [
    "#given a list of track ids, will request spotify api for specified audio data\n",
    "def get_audio_features(track_ids):\n",
    "    columns = ['id','danceability','energy','key','loudness','mode','speechiness',\n",
    "               'acousticness','instrumentalness','liveness','valence','tempo','time_signature']\n",
    "    audio_info = pd.DataFrame(columns=columns)\n",
    "    for i in range(math.ceil(len(track_ids)/50)):\n",
    "        track_id_slice = track_ids[50*i:50*i+50]  \n",
    "        tracks = requests.get(f\"{base_url}/audio-features\",headers=headers,params={'ids':','.join(track_id_slice)}).json()['audio_features']\n",
    "        for track in tracks:\n",
    "            audio_data = set_audio_data(track)\n",
    "            audio_info = audio_info.append(audio_data,ignore_index=True)\n",
    "    return audio_info"
   ]
  },
  {
   "cell_type": "code",
   "execution_count": 9,
   "metadata": {},
   "outputs": [],
   "source": [
    "#requests data for given list of artist ids\n",
    "def get_artists(artist_ids):\n",
    "    columns = ['id','name','popularity','genres','followers']\n",
    "    artists_info = pd.DataFrame(columns=columns)\n",
    "    for i in range(math.ceil(len(artist_ids)/50)):\n",
    "        artist_id_slice = artist_ids[50*i:50*i+50]\n",
    "        artists = requests.get(f\"{base_url}/artists\",headers=headers,params={'ids':','.join(artist_id_slice)}).json()['artists']\n",
    "        for artist in artists:\n",
    "            artist_data = set_artist_data(artist)\n",
    "            artists_info = artists_info.append(artist_data,ignore_index=True)\n",
    "    return artists_info"
   ]
  },
  {
   "cell_type": "code",
   "execution_count": 10,
   "metadata": {},
   "outputs": [],
   "source": [
    "#will read in data from a playlist and add track and artist data to the given dfs, which are the main track and artist dfs\n",
    "#combines all above functions into one\n",
    "def load_playlist(playlist_id,tracks_df,artists_df,artist_tracks_df,artist_genres_df):\n",
    "    tracks_info = read_playlist(playlist_id)\n",
    "    audio_info = get_audio_features(tracks_info['id'].unique())\n",
    "    \n",
    "    playlist_tracks = tracks_info[['id','date_added']].copy()\n",
    "    tracks_data = tracks_info.merge(audio_info,on='id')\n",
    "    \n",
    "    artists_data = get_artists(tracks_data['artist_ids'].explode().unique())\n",
    "    \n",
    "    artist_list = artist_tracks.merge(all_artists[['id','name']],left_on='artist_id',right_on='id')\n",
    "\n",
    "    artist_tracks_data = tracks_data[['id','artist_ids']].explode('artist_ids').rename(columns={'id':'track_id','artist_ids':'artist_id'})\n",
    "    artist_tracks_data['artist_pop'] = artist_tracks_data['artist_id'].map(dict(zip(artists_data['id'],artists_data['popularity'])))\n",
    "    artist_genres_data = artists_data[['id','genres']].explode('genres').rename(columns={'id':'artist_id','genres':'genre'})\n",
    "    \n",
    "    artist_list_map = artist_tracks_data.merge(artists_data[['id','name']],left_on='artist_id',right_on='id').groupby('track_id')['name'].apply(lambda x: ', '.join(x))\n",
    "    tracks_data['artist_list'] = tracks_data['id'].map(artist_list_map)\n",
    "    \n",
    "    tracks_df = tracks_df.append(tracks_data)\n",
    "    tracks_df = tracks_df.drop_duplicates(subset=['id'])\n",
    "    \n",
    "    artists_df = artists_df.append(artists_data)\n",
    "    artists_df = artists_df.drop_duplicates(subset=['id'])\n",
    "    \n",
    "    artist_tracks_df = artist_tracks_df.append(artist_tracks_data)\n",
    "    artist_tracks_df = artist_tracks_df.drop_duplicates()\n",
    "    \n",
    "    artist_genres_df = artist_genres_df.append(artist_genres_data)\n",
    "    artist_genres_df = artist_genres_df.drop_duplicates()\n",
    "    \n",
    "    return playlist_tracks, tracks_df, artists_df, artist_tracks_df, artist_genres_df"
   ]
  },
  {
   "cell_type": "code",
   "execution_count": 11,
   "metadata": {},
   "outputs": [
    {
     "name": "stdout",
     "output_type": "stream",
     "text": [
      "load_playlist took 44.8736 seconds\n",
      "load_playlist took 1.9115 seconds\n",
      "load_playlist took 1.5929 seconds\n",
      "load_playlist took 2.0165 seconds\n",
      "load_playlist took 2.1191 seconds\n",
      "load_playlist took 3.4193 seconds\n"
     ]
    }
   ],
   "source": [
    "track_features = [\n",
    "    'id','name','artist_ids','album_id','duration','explicit','popularity','release_date','danceability','energy',\n",
    "    'key','loudness','mode','speechiness','acousticness','instrumentalness','liveness','valence','tempo','time_signature'\n",
    "]\n",
    "artist_features = ['id','name','popularity','genres','followers']\n",
    "\n",
    "all_tracks = pd.DataFrame(columns=track_features)\n",
    "all_artists = pd.DataFrame(columns=artist_features)\n",
    "artist_tracks = pd.DataFrame(columns=['track_id','artist_id'])\n",
    "artist_genres = pd.DataFrame(columns=['artist_id','genre'])\n",
    "\n",
    "playlist_dfs = {}\n",
    "for playlist in playlists:\n",
    "    playlist_dfs[playlist], all_tracks, all_artists, artist_tracks, artist_genres = timer(load_playlist,playlists[playlist],all_tracks,all_artists,artist_tracks,artist_genres)\n",
    "\n",
    "all_tracks = all_tracks.drop(['artist_ids','date_added'],axis=1)\n",
    "all_artists = all_artists.drop('genres',axis=1)"
   ]
  },
  {
   "cell_type": "code",
   "execution_count": 12,
   "metadata": {},
   "outputs": [
    {
     "data": {
      "text/html": [
       "<div>\n",
       "<style scoped>\n",
       "    .dataframe tbody tr th:only-of-type {\n",
       "        vertical-align: middle;\n",
       "    }\n",
       "\n",
       "    .dataframe tbody tr th {\n",
       "        vertical-align: top;\n",
       "    }\n",
       "\n",
       "    .dataframe thead th {\n",
       "        text-align: right;\n",
       "    }\n",
       "</style>\n",
       "<table border=\"1\" class=\"dataframe\">\n",
       "  <thead>\n",
       "    <tr style=\"text-align: right;\">\n",
       "      <th></th>\n",
       "      <th>genre</th>\n",
       "    </tr>\n",
       "    <tr>\n",
       "      <th>artist_id</th>\n",
       "      <th></th>\n",
       "    </tr>\n",
       "  </thead>\n",
       "  <tbody>\n",
       "    <tr>\n",
       "      <th>00dwwnz3V4kRfu3UFYpJLz</th>\n",
       "      <td>0</td>\n",
       "    </tr>\n",
       "    <tr>\n",
       "      <th>51VoiQGnr78y5uvwH4t2vD</th>\n",
       "      <td>0</td>\n",
       "    </tr>\n",
       "    <tr>\n",
       "      <th>4xM4nZLhGE0pMKbXA08s6A</th>\n",
       "      <td>0</td>\n",
       "    </tr>\n",
       "    <tr>\n",
       "      <th>4xDPSieFNUt9iHOsx3pxWt</th>\n",
       "      <td>0</td>\n",
       "    </tr>\n",
       "    <tr>\n",
       "      <th>4jBAtDSn9XkkE6PtrSgBDE</th>\n",
       "      <td>0</td>\n",
       "    </tr>\n",
       "    <tr>\n",
       "      <th>...</th>\n",
       "      <td>...</td>\n",
       "    </tr>\n",
       "    <tr>\n",
       "      <th>5WId4o5jdGVhptNU0uqKxu</th>\n",
       "      <td>13</td>\n",
       "    </tr>\n",
       "    <tr>\n",
       "      <th>2Jv5eshHtLycR6R8KQCdc4</th>\n",
       "      <td>14</td>\n",
       "    </tr>\n",
       "    <tr>\n",
       "      <th>5r5Va4lVQ1zjEfbJSrmCsS</th>\n",
       "      <td>15</td>\n",
       "    </tr>\n",
       "    <tr>\n",
       "      <th>58XGUNsRNu3cVOIOYk5chx</th>\n",
       "      <td>15</td>\n",
       "    </tr>\n",
       "    <tr>\n",
       "      <th>38zTZcuN7nFvVJ6auhc6V3</th>\n",
       "      <td>19</td>\n",
       "    </tr>\n",
       "  </tbody>\n",
       "</table>\n",
       "<p>1011 rows × 1 columns</p>\n",
       "</div>"
      ],
      "text/plain": [
       "                        genre\n",
       "artist_id                    \n",
       "00dwwnz3V4kRfu3UFYpJLz      0\n",
       "51VoiQGnr78y5uvwH4t2vD      0\n",
       "4xM4nZLhGE0pMKbXA08s6A      0\n",
       "4xDPSieFNUt9iHOsx3pxWt      0\n",
       "4jBAtDSn9XkkE6PtrSgBDE      0\n",
       "...                       ...\n",
       "5WId4o5jdGVhptNU0uqKxu     13\n",
       "2Jv5eshHtLycR6R8KQCdc4     14\n",
       "5r5Va4lVQ1zjEfbJSrmCsS     15\n",
       "58XGUNsRNu3cVOIOYk5chx     15\n",
       "38zTZcuN7nFvVJ6auhc6V3     19\n",
       "\n",
       "[1011 rows x 1 columns]"
      ]
     },
     "execution_count": 12,
     "metadata": {},
     "output_type": "execute_result"
    }
   ],
   "source": [
    "artist_genres.groupby('artist_id').count().sort_values('genre')#.dropna()"
   ]
  },
  {
   "cell_type": "code",
   "execution_count": null,
   "metadata": {},
   "outputs": [],
   "source": []
  },
  {
   "cell_type": "code",
   "execution_count": 13,
   "metadata": {},
   "outputs": [],
   "source": [
    "with pd.ExcelWriter('song_data2.xlsx') as writer:\n",
    "    all_tracks.to_excel(writer,sheet_name = 'tracks',index=False)\n",
    "    all_artists.to_excel(writer,sheet_name = 'artists',index=False)\n",
    "    artist_tracks.to_excel(writer,sheet_name = 'artist_tracks',index=False)\n",
    "    artist_genres.dropna().to_excel(writer,sheet_name = 'artist_genres',index=False)\n",
    "    for playlist in playlists:\n",
    "        playlist_dfs[playlist].to_excel(writer,sheet_name = playlist,index=False)"
   ]
  },
  {
   "cell_type": "code",
   "execution_count": 204,
   "metadata": {},
   "outputs": [
    {
     "data": {
      "text/html": [
       "<div>\n",
       "<style scoped>\n",
       "    .dataframe tbody tr th:only-of-type {\n",
       "        vertical-align: middle;\n",
       "    }\n",
       "\n",
       "    .dataframe tbody tr th {\n",
       "        vertical-align: top;\n",
       "    }\n",
       "\n",
       "    .dataframe thead th {\n",
       "        text-align: right;\n",
       "    }\n",
       "</style>\n",
       "<table border=\"1\" class=\"dataframe\">\n",
       "  <thead>\n",
       "    <tr style=\"text-align: right;\">\n",
       "      <th></th>\n",
       "      <th>id</th>\n",
       "      <th>name</th>\n",
       "      <th>popularity</th>\n",
       "      <th>followers</th>\n",
       "    </tr>\n",
       "  </thead>\n",
       "  <tbody>\n",
       "    <tr>\n",
       "      <th>620</th>\n",
       "      <td>38zTZcuN7nFvVJ6auhc6V3</td>\n",
       "      <td>Deerhunter</td>\n",
       "      <td>51</td>\n",
       "      <td>331506</td>\n",
       "    </tr>\n",
       "  </tbody>\n",
       "</table>\n",
       "</div>"
      ],
      "text/plain": [
       "                         id        name popularity followers\n",
       "620  38zTZcuN7nFvVJ6auhc6V3  Deerhunter         51    331506"
      ]
     },
     "execution_count": 204,
     "metadata": {},
     "output_type": "execute_result"
    }
   ],
   "source": [
    "all_artists[all_artists['id']=='38zTZcuN7nFvVJ6auhc6V3']"
   ]
  },
  {
   "cell_type": "code",
   "execution_count": null,
   "metadata": {},
   "outputs": [],
   "source": []
  },
  {
   "cell_type": "code",
   "execution_count": 175,
   "metadata": {},
   "outputs": [],
   "source": []
  },
  {
   "cell_type": "code",
   "execution_count": null,
   "metadata": {},
   "outputs": [],
   "source": []
  },
  {
   "cell_type": "code",
   "execution_count": null,
   "metadata": {},
   "outputs": [],
   "source": []
  },
  {
   "cell_type": "code",
   "execution_count": null,
   "metadata": {},
   "outputs": [],
   "source": []
  },
  {
   "cell_type": "code",
   "execution_count": null,
   "metadata": {},
   "outputs": [],
   "source": []
  },
  {
   "cell_type": "code",
   "execution_count": null,
   "metadata": {},
   "outputs": [],
   "source": []
  }
 ],
 "metadata": {
  "kernelspec": {
   "display_name": "Python 3",
   "language": "python",
   "name": "python3"
  },
  "language_info": {
   "codemirror_mode": {
    "name": "ipython",
    "version": 3
   },
   "file_extension": ".py",
   "mimetype": "text/x-python",
   "name": "python",
   "nbconvert_exporter": "python",
   "pygments_lexer": "ipython3",
   "version": "3.8.5"
  }
 },
 "nbformat": 4,
 "nbformat_minor": 4
}
