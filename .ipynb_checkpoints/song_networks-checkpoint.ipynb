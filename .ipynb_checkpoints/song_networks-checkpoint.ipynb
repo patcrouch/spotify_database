{
 "cells": [
  {
   "cell_type": "code",
   "execution_count": 1,
   "metadata": {},
   "outputs": [],
   "source": [
    "import requests\n",
    "import pandas as pd\n",
    "import math\n",
    "import time\n",
    "\n",
    "def timer(func,*args):\n",
    "    start = time.perf_counter()\n",
    "    output = func(*args)\n",
    "    print(f\"{func.__name__} took {round(time.perf_counter()-start,4)} seconds\")\n",
    "    return output"
   ]
  },
  {
   "cell_type": "code",
   "execution_count": 150,
   "metadata": {},
   "outputs": [],
   "source": [
    "dfs = pd.read_excel('song_data.xlsx',sheet_name=None)"
   ]
  },
  {
   "cell_type": "code",
   "execution_count": 195,
   "metadata": {},
   "outputs": [],
   "source": [
    "artist_genres = dfs['artist_genres']\n",
    "artists_in_genre = artist_genres.groupby('genre').agg({'artist_id':lambda x: x.tolist()})\n",
    "artist_genres['neighbors'] = artist_genres['genre'].map(artists_in_genre['artist_id'])\n",
    "\n",
    "edges_w_data = artist_genres.explode('neighbors')\n",
    "edges_w_data = edges_w_data[edges_w_data['artist_id']!=edges_w_data['neighbors']]\n",
    "edges_w_data = edges_w_data.groupby(['artist_id','neighbors'],as_index=False).agg({'genre':[lambda x: x.tolist(),'count']})\n",
    "edges_w_data.columns = ['Source','Target','genres','Weight']\n",
    "\n",
    "edges = edges_w_data[['Source','Target','Weight']]\n",
    "edges['set'] = edges[['Source','Target']].apply(frozenset, axis=1)\n",
    "edges = edges.drop_duplicates(subset='set').drop('set',axis=1)\n",
    "edges['type'] = 'undirected'\n",
    "\n",
    "nodes = pd.DataFrame(edges['Source'].unique(),columns=['id'])\n",
    "nodes['Label'] = nodes['id'].map(pd.Series(list(dfs['artists']['name']),dfs['artists']['id']))"
   ]
  },
  {
   "cell_type": "code",
   "execution_count": 188,
   "metadata": {},
   "outputs": [],
   "source": [
    "nodes.to_csv('nodes.csv',index=False)\n",
    "edges.to_csv('edges.csv',index=False)"
   ]
  },
  {
   "cell_type": "code",
   "execution_count": 218,
   "metadata": {},
   "outputs": [],
   "source": [
    "artist_genres = dfs['artist_genres']\n",
    "artist_genre_lists = artist_genres.groupby('artist_id').agg({'genre':lambda x: x.tolist()})\n",
    "artist_genres['neighbors'] = artist_genres['artist_id'].map(artist_genre_lists['genre'])\n",
    "\n",
    "edges_w_data = artist_genres.explode('neighbors')\n",
    "edges_w_data = edges_w_data[edges_w_data['genre']!=edges_w_data['neighbors']]\n",
    "edges_w_data = edges_w_data.groupby(['genre','neighbors'],as_index=False).agg({'artist_id':[lambda x: x.tolist(),'count']})\n",
    "edges_w_data.columns = ['Target','Source','artist_ids','Weight']\n",
    "\n",
    "edges = edges_w_data[['Source','Target','Weight']]\n",
    "edges['set'] = edges[['Source','Target']].apply(frozenset, axis=1)\n",
    "edges = edges.drop_duplicates(subset='set').drop('set',axis=1)\n",
    "edges['type'] = 'undirected'\n",
    "\n",
    "nodes = pd.DataFrame(edges['Source'].unique(),columns=['Label'])\n",
    "nodes['id'] = nodes.index"
   ]
  },
  {
   "cell_type": "code",
   "execution_count": 251,
   "metadata": {},
   "outputs": [],
   "source": [
    "artist_tracks = dfs['artist_tracks']\n",
    "artist_track_lists = artist_tracks.groupby('track_id').agg({'artist_id':lambda x: x.tolist()})\n",
    "artist_tracks['neighbors'] = artist_tracks['track_id'].map(artist_track_lists['artist_id'])\n",
    "\n",
    "edges_w_data = artist_tracks.explode('neighbors')\n",
    "edges_w_data = edges_w_data[edges_w_data['artist_id']!=edges_w_data['neighbors']]\n",
    "edges_w_data = edges_w_data.groupby(['artist_id','neighbors'],as_index=False).agg({'track_id':[lambda x: x.tolist(),'count']})\n",
    "edges_w_data.columns = ['Source','Target','track_ids','Weight']\n",
    "\n",
    "edges = edges_w_data[['Source','Target','Weight']]\n",
    "edges['set'] = edges[['Source','Target']].apply(frozenset, axis=1)\n",
    "edges = edges.drop_duplicates(subset='set').drop('set',axis=1)\n",
    "edges['type'] = 'undirected'\n",
    "\n",
    "nodes = pd.DataFrame(edges['Source'].unique(),columns=['id'])\n",
    "nodes['Label'] = nodes['id'].map(pd.Series(list(dfs['artists']['name']),dfs['artists']['id']))"
   ]
  },
  {
   "cell_type": "code",
   "execution_count": 252,
   "metadata": {},
   "outputs": [],
   "source": [
    "nodes.to_csv('artists_by_track_nodes.csv',index=False)\n",
    "edges.to_csv('artists_by_track_edges.csv',index=False)"
   ]
  },
  {
   "cell_type": "code",
   "execution_count": 280,
   "metadata": {},
   "outputs": [],
   "source": [
    "token = \"BQBU28J-7G_UfVBxXyn-oJ8MCEs8PGNl-NDgl_ZW1Yb8dMPJEsH1ab1ZuCIzymJtRgt_XxwDxdHJpKY9aogDTBA_gTxkDE9HlIDKdmlIu_twI8V55tsI9hw-H6ZqiyQUw6Dillv4scXayY6_aFpsmn6HirY0K9FSXDmGWrt_yP9196XxzCqlm1eTV3WSqYTsOVM\"\n",
    "\n",
    "headers = {\n",
    "    'Accept': 'application/json',\n",
    "    'Content-Type': 'application/json',\n",
    "    'Authorization': 'Bearer '+token,\n",
    "}\n",
    "\n",
    "base_url = 'https://api.spotify.com/v1'"
   ]
  },
  {
   "cell_type": "code",
   "execution_count": null,
   "metadata": {},
   "outputs": [],
   "source": [
    "artists = dfs['artists']\n",
    "related_artists = {}\n",
    "for i, aid in enumerate(artists['id']):\n",
    "    related_json = requests.get(f\"{base_url}/artists/{aid}/related-artists\",headers=headers).json()\n",
    "    related_artists[aid] = [artist['id'] for artist in related_json['artists']]\n",
    "    if i%10 == 0:\n",
    "        print(i)"
   ]
  },
  {
   "cell_type": "code",
   "execution_count": 301,
   "metadata": {},
   "outputs": [],
   "source": [
    "artists_in_library = {}\n",
    "for aid in related_artists:\n",
    "    ra = set(related_artists[aid]) & set(artists['id'])\n",
    "    if ra:\n",
    "        artists_in_library[aid] = list(ra)"
   ]
  },
  {
   "cell_type": "code",
   "execution_count": 322,
   "metadata": {},
   "outputs": [],
   "source": [
    "df = pd.DataFrame(artists_in_library.keys(),columns=['id'])\n",
    "df['neighbors'] = df['id'].map(artists_in_library)\n",
    "\n",
    "edges_w_data = df.explode('neighbors')\n",
    "edges_w_data.columns = ['Source','Target']\n",
    "\n",
    "edges = edges_w_data.copy()\n",
    "edges['set'] = edges.apply(frozenset, axis=1)\n",
    "edges = edges.drop_duplicates(subset='set').drop('set',axis=1)\n",
    "edges['type'] = 'undirected'\n",
    "\n",
    "nodes = pd.DataFrame(edges['Source'].unique(),columns=['id'])\n",
    "nodes['Label'] = nodes['id'].map(pd.Series(list(dfs['artists']['name']),dfs['artists']['id']))"
   ]
  },
  {
   "cell_type": "code",
   "execution_count": 323,
   "metadata": {},
   "outputs": [],
   "source": [
    "nodes.to_csv('artists_by_algo_nodes.csv',index=False)\n",
    "edges.to_csv('artists_by_algo_edges.csv',index=False)"
   ]
  },
  {
   "cell_type": "code",
   "execution_count": 330,
   "metadata": {},
   "outputs": [],
   "source": [
    "df = pd.read_csv('genres_by_artist_nodes.csv')\n",
    "df['id'] = df['Label']\n",
    "df.to_csv('genres_by_artist_nodes.csv',index=False)"
   ]
  },
  {
   "cell_type": "code",
   "execution_count": 365,
   "metadata": {},
   "outputs": [],
   "source": [
    "df = pd.read_csv('artists_by_algo_edges.csv')\n",
    "df['Weight']=1"
   ]
  },
  {
   "cell_type": "code",
   "execution_count": 366,
   "metadata": {},
   "outputs": [],
   "source": [
    "df.pivot(index='Source',columns='Target',values='Weight').fillna(0).to_csv('test.csv')"
   ]
  },
  {
   "cell_type": "code",
   "execution_count": 363,
   "metadata": {},
   "outputs": [
    {
     "data": {
      "text/plain": [
       "Source\n",
       "00dwwnz3V4kRfu3UFYpJLz    0.0\n",
       "5INjqkS1o8h1imAzPqGZBb    0.0\n",
       "5IcR3N7QB1j6KBL8eImZ8m    0.0\n",
       "5IqdTZwvASXwM39z5qPqAA    0.0\n",
       "5K4W6rqBFWDnAN6FQUkS6x    0.0\n",
       "                         ... \n",
       "4FZ3j1oH43e7cukCALsCwf    1.0\n",
       "5BYuBzqmTXwUDw2rYkwExr    1.0\n",
       "0bZCak2tcRMY1dzEIuwF42    1.0\n",
       "4F84IBURUo98rz4r61KF70    1.0\n",
       "2S5hlvw4CMtMGswFtfdK15    1.0\n",
       "Name: 02uYdhMhCgdB49hZlYRm9o, Length: 671, dtype: float64"
      ]
     },
     "execution_count": 363,
     "metadata": {},
     "output_type": "execute_result"
    }
   ],
   "source": []
  },
  {
   "cell_type": "code",
   "execution_count": null,
   "metadata": {},
   "outputs": [],
   "source": []
  }
 ],
 "metadata": {
  "kernelspec": {
   "display_name": "Python 3",
   "language": "python",
   "name": "python3"
  },
  "language_info": {
   "codemirror_mode": {
    "name": "ipython",
    "version": 3
   },
   "file_extension": ".py",
   "mimetype": "text/x-python",
   "name": "python",
   "nbconvert_exporter": "python",
   "pygments_lexer": "ipython3",
   "version": "3.8.5"
  }
 },
 "nbformat": 4,
 "nbformat_minor": 4
}
